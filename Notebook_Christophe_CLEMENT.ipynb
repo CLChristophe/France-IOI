{
  "nbformat": 4,
  "nbformat_minor": 0,
  "metadata": {
    "colab": {
      "name": "Notebook Christophe CLEMENT.ipynb",
      "provenance": [],
      "authorship_tag": "ABX9TyN8/TasJUW3LxcxGHoDUjfu",
      "include_colab_link": true
    },
    "kernelspec": {
      "name": "python3",
      "display_name": "Python 3"
    },
    "accelerator": "GPU"
  },
  "cells": [
    {
      "cell_type": "markdown",
      "metadata": {
        "id": "view-in-github",
        "colab_type": "text"
      },
      "source": [
        "<a href=\"https://colab.research.google.com/github/CLChristophe/France-IOI/blob/master/Notebook_Christophe_CLEMENT.ipynb\" target=\"_parent\"><img src=\"https://colab.research.google.com/assets/colab-badge.svg\" alt=\"Open In Colab\"/></a>"
      ]
    },
    {
      "cell_type": "code",
      "metadata": {
        "id": "ripNs5aMAp4c",
        "outputId": "8a537aab-7899-4179-baee-94175897ea7c",
        "colab": {
          "base_uri": "https://localhost:8080/",
          "height": 34
        }
      },
      "source": [
        "!python --version"
      ],
      "execution_count": null,
      "outputs": [
        {
          "output_type": "stream",
          "text": [
            "Python 3.6.9\n"
          ],
          "name": "stdout"
        }
      ]
    },
    {
      "cell_type": "code",
      "metadata": {
        "id": "9BW45cfNF9ff",
        "outputId": "043968fc-0cbc-4859-bcae-77eaf433d24e",
        "colab": {
          "base_uri": "https://localhost:8080/",
          "height": 34
        }
      },
      "source": [
        "import pandas as pd\n",
        "print(pd.__version__)"
      ],
      "execution_count": null,
      "outputs": [
        {
          "output_type": "stream",
          "text": [
            "1.0.5\n"
          ],
          "name": "stdout"
        }
      ]
    },
    {
      "cell_type": "code",
      "metadata": {
        "id": "dlPbQ-rTGY14",
        "outputId": "101dd8f9-72a7-4e73-9e80-60fcd4913364",
        "colab": {
          "base_uri": "https://localhost:8080/",
          "height": 121
        }
      },
      "source": [
        "!pip install pandas==1.1.2\n"
      ],
      "execution_count": null,
      "outputs": [
        {
          "output_type": "stream",
          "text": [
            "Requirement already satisfied: pandas==1.1.2 in /usr/local/lib/python3.6/dist-packages (1.1.2)\n",
            "Requirement already satisfied: numpy>=1.15.4 in /usr/local/lib/python3.6/dist-packages (from pandas==1.1.2) (1.18.5)\n",
            "Requirement already satisfied: pytz>=2017.2 in /usr/local/lib/python3.6/dist-packages (from pandas==1.1.2) (2018.9)\n",
            "Requirement already satisfied: python-dateutil>=2.7.3 in /usr/local/lib/python3.6/dist-packages (from pandas==1.1.2) (2.8.1)\n",
            "Requirement already satisfied: six>=1.5 in /usr/local/lib/python3.6/dist-packages (from python-dateutil>=2.7.3->pandas==1.1.2) (1.15.0)\n"
          ],
          "name": "stdout"
        }
      ]
    },
    {
      "cell_type": "markdown",
      "metadata": {
        "id": "tELwGmVcHdL-"
      },
      "source": [
        "06.e4π.(√7)sinπ.ϕ∫4−2xdx.e−ilne\n"
      ]
    },
    {
      "cell_type": "markdown",
      "metadata": {
        "id": "ZLUVLiTBHq_A"
      },
      "source": [
        "δfδt+v.∇xf=∫R3∫S2|v−v∗|[f(v′)f(v′∗)−f(v)f(v∗)]dv∗dσ"
      ]
    },
    {
      "cell_type": "markdown",
      "metadata": {
        "id": "a-GZBt5VMo7n"
      },
      "source": [
        "[GPU](https://docs.google.com/drawings/d/14vlnGV6G8NAcu8qLnCy34q-ue5PvcMcj2YoS6j1W9_A/edit?usp=sharing)\n"
      ]
    },
    {
      "cell_type": "markdown",
      "metadata": {
        "id": "51c1PPCXMTUF"
      },
      "source": [
        "[20 LUCKIEST PEOPLE CAUGHT ON CAMERA](https://www.youtube.com/watch?v=XZysgIslP2A)\n"
      ]
    }
  ]
}